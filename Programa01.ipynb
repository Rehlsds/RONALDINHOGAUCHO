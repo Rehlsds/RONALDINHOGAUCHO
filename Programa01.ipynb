{
  "nbformat": 4,
  "nbformat_minor": 0,
  "metadata": {
    "colab": {
      "provenance": [],
      "authorship_tag": "ABX9TyMFDILBnMTE9qU9SdVn8nKn",
      "include_colab_link": true
    },
    "kernelspec": {
      "name": "python3",
      "display_name": "Python 3"
    },
    "language_info": {
      "name": "python"
    }
  },
  "cells": [
    {
      "cell_type": "markdown",
      "metadata": {
        "id": "view-in-github",
        "colab_type": "text"
      },
      "source": [
        "<a href=\"https://colab.research.google.com/github/Rehlsds/RONALDINHOGAUCHO/blob/main/Programa01.ipynb\" target=\"_parent\"><img src=\"https://colab.research.google.com/assets/colab-badge.svg\" alt=\"Open In Colab\"/></a>"
      ]
    },
    {
      "cell_type": "code",
      "source": [
        "#Importancia dos tipos de variaveis\n",
        "a = 2\n",
        "b = 3\n",
        "soma = a + b\n",
        "print(soma)"
      ],
      "metadata": {
        "colab": {
          "base_uri": "https://localhost:8080/"
        },
        "id": "fidesRoRGLEz",
        "outputId": "a25582ea-4278-46da-9db3-4ee0b687e235"
      },
      "execution_count": null,
      "outputs": [
        {
          "output_type": "stream",
          "name": "stdout",
          "text": [
            "5\n"
          ]
        }
      ]
    },
    {
      "cell_type": "code",
      "source": [
        "a = 2.7\n",
        "print(type(a))\n",
        "b = 23.75\n",
        "print(type(b))\n",
        "soma = a / b\n",
        "print(type(soma))\n",
        "print(soma)"
      ],
      "metadata": {
        "colab": {
          "base_uri": "https://localhost:8080/"
        },
        "id": "Wa0eWzIvGtL-",
        "outputId": "dc36d095-c15d-4028-90e1-f247ea70bf7e"
      },
      "execution_count": null,
      "outputs": [
        {
          "output_type": "stream",
          "name": "stdout",
          "text": [
            "<class 'float'>\n",
            "<class 'float'>\n",
            "<class 'float'>\n",
            "0.11368421052631579\n"
          ]
        }
      ]
    },
    {
      "cell_type": "markdown",
      "source": [
        "#Lembrar que sempre que quiser calcular é preciso informar que estou lidando com n° inteiro  ou  float\n",
        "\n",
        "1. Imput = Texto Digitado\n",
        "2. int = inteiro\n",
        "3. string = \"9\" ou '9'\n",
        "4. Float (Ponto Flutuante)"
      ],
      "metadata": {
        "id": "v5reJzy_I_CP"
      }
    },
    {
      "cell_type": "code",
      "source": [
        "num = float (input(\"Digite valor inteiro: \"))\n",
        "print(type(num))\n",
        "quoc = num//2\n",
        "resto = num % 2\n",
        "print(quoc)\n",
        "print(resto)"
      ],
      "metadata": {
        "colab": {
          "base_uri": "https://localhost:8080/"
        },
        "collapsed": true,
        "id": "aMSHHV85I9dW",
        "outputId": "1a6e442f-54b2-4f78-b7c1-cc2e2583d248"
      },
      "execution_count": null,
      "outputs": [
        {
          "output_type": "stream",
          "name": "stdout",
          "text": [
            "Digite valor inteiro: 5.\n",
            "<class 'float'>\n",
            "2.0\n",
            "1.0\n"
          ]
        }
      ]
    },
    {
      "cell_type": "code",
      "source": [
        "# Solicita dois valores reais ao usuário\n",
        "valor1 = float(input(\"Digite o primeiro valor: \"))\n",
        "valor2 = float(input(\"Digite o segundo valor: \"))\n",
        "# Calcula a média aritmética\n",
        "media = (valor1 + valor2) / 2\n",
        "# Exibe o resultado\n",
        "print(f\"A média aritmética entre {valor1} e {valor2} é {media}.\")\n"
      ],
      "metadata": {
        "collapsed": true,
        "id": "wiy2Lg-2MCf1",
        "outputId": "c0f439e2-dfa2-4095-b668-15b531336111",
        "colab": {
          "base_uri": "https://localhost:8080/"
        }
      },
      "execution_count": null,
      "outputs": [
        {
          "output_type": "stream",
          "name": "stdout",
          "text": [
            "Digite o primeiro valor: 8\n",
            "Digite o segundo valor: 8\n",
            "A média aritmética entre 8.0 e 8.0 é 8.0.\n"
          ]
        }
      ]
    },
    {
      "cell_type": "code",
      "source": [
        "#Real: base, altura, area\n",
        "#Ler base\n",
        "#Ler altura\n",
        "#Calcular area = base*Altura/2.0\n",
        "#Escrever área\n",
        "\n",
        "base = int(input(\"Digite a base inteira\"))\n",
        "altura = int(input(\"Digite a altura\"))\n",
        "area = float(input(\"Digite a area\"))\n",
        "print(type(base))\n",
        "print(type(altura))\n",
        "area = (base * altura) / 2.0\n",
        "print (f\"À area é: {media}.\")\n"
      ],
      "metadata": {
        "id": "XG9BVwGCMXmw"
      },
      "execution_count": null,
      "outputs": []
    },
    {
      "cell_type": "markdown",
      "source": [
        "# EXEMPLO3 -> PROGRAMA PARA VERIFICAR se PAR ou IMPAR\n"
      ],
      "metadata": {
        "id": "RVUQLYOcLBT0"
      }
    },
    {
      "cell_type": "code",
      "source": [
        "# Solicita ao usúario que insira um número\n",
        "numero = int(input(\"Digite um numero inteiro: \"))\n",
        "\n",
        "# Verifica se o número é par ou ímpar\n",
        "if numero % 2 == 0:\n",
        "  print(f\"O numero {numero} e par. \")\n",
        "else:\n",
        "  print(f\"O numero {numero} e impar. \")\n"
      ],
      "metadata": {
        "id": "NsSRk7PqHXL6",
        "outputId": "9c1cdc02-4310-4791-f84b-0b6a7396ab4d",
        "colab": {
          "base_uri": "https://localhost:8080/"
        }
      },
      "execution_count": null,
      "outputs": [
        {
          "output_type": "stream",
          "name": "stdout",
          "text": [
            "Digite um numero inteiro: 24\n",
            "O numero 24 e par. \n"
          ]
        }
      ]
    },
    {
      "cell_type": "markdown",
      "source": [
        "# EXEMPLO 04\n",
        "\n",
        "1. \"F\" formatação\n"
      ],
      "metadata": {
        "id": "vy7NBrR8NmO3"
      }
    },
    {
      "cell_type": "code",
      "source": [
        "import math\n",
        "\n",
        "#Solicita ao usuario que insira um numero\n",
        "numero = float(input(\"Digite um numero: \"))\n",
        "\n",
        "# Verifica se o numero é maior ou igual a zero\n",
        "if  numero >= 0:\n",
        "    raiz_quadrada = math.sqrt (numero)\n",
        "    print (f\"A raiz quadrada de {numero} é {raiz_quadrada: .2f}.\")\n",
        "else:\n",
        "    print (\"Não existe raiz real para este número\")\n",
        "\n"
      ],
      "metadata": {
        "id": "ec3Ta2pnNqhv",
        "outputId": "30003f25-3abf-419f-dd1c-627edc0f8e79",
        "colab": {
          "base_uri": "https://localhost:8080/"
        }
      },
      "execution_count": 17,
      "outputs": [
        {
          "output_type": "stream",
          "name": "stdout",
          "text": [
            "Digite um numero: 80\n",
            "A raiz quadrada de 80 é  8.94.\n"
          ]
        }
      ]
    },
    {
      "cell_type": "markdown",
      "source": [
        "#EXEMPLO5\n",
        "\n",
        "1. elif = se não se\n",
        "2. else =\n"
      ],
      "metadata": {
        "id": "q9lv8UPWQNFq"
      }
    },
    {
      "source": [
        "# Solicita ao usuario que insira o comprimento e a largura da camiseta\n",
        "comprimento = float(input(f\"Digite o comprimento da camiseta em centímetros: \"))\n",
        "largura = float(input(f\"Digite o largura da camiseta em centímetros:\"))\n",
        "# Changed Largura to largura\n",
        "\n",
        "\n",
        "# Determina o tamanho da camiseta com base no comprimento e largura\n",
        "if comprimento <= 60 and largura <= 45:\n",
        "  tamanho = \"PP\"\n",
        "elif comprimento <= 65 and largura <= 48:\n",
        "  tamanho = \"P\"\n",
        "elif comprimento <= 70 and largura <= 51:\n",
        "  tamanho = \"M\"\n",
        "elif comprimento <= 75 and largura <= 54:\n",
        "  tamanho = \"G\"\n",
        "elif comprimento <= 80 and largura <= 57:\n",
        "  tamanho = \"GG\"\n",
        "else:\n",
        "  tamanho = \"XGG\"\n",
        "\n",
        "# Exibe o tamanho da camiseta\n",
        "print(f\"O tamanho da camiseta é {tamanho}. \")"
      ],
      "cell_type": "code",
      "metadata": {
        "id": "T2ww1K4gTmaD",
        "outputId": "04544c12-a114-4a4d-86ab-16bc84597e1e",
        "colab": {
          "base_uri": "https://localhost:8080/"
        }
      },
      "execution_count": 19,
      "outputs": [
        {
          "output_type": "stream",
          "name": "stdout",
          "text": [
            "Digite o comprimento da camiseta em centímetros: 35\n",
            "Digite o largura da camiseta em centímetros:30\n",
            "O tamanho da camiseta é PP. \n"
          ]
        }
      ]
    },
    {
      "cell_type": "markdown",
      "source": [],
      "metadata": {
        "id": "Z-6_gepCSDCI"
      }
    }
  ]
}